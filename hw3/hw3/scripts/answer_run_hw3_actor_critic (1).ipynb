{
  "cells": [
    {
      "cell_type": "markdown",
      "metadata": {
        "id": "gUl_qfOR8JV6"
      },
      "source": [
        "##Setup\n",
        "\n",
        "You will need to make a copy of this notebook in your Google Drive before you can edit the homework files. You can do so with **File &rarr; Save a copy in Drive**."
      ]
    },
    {
      "cell_type": "code",
      "execution_count": null,
      "metadata": {
        "id": "JDBdSMGpU6Jn",
        "outputId": "915faf8d-7466-4858-f91d-ff227b0a0fe4",
        "colab": {
          "base_uri": "https://localhost:8080/"
        }
      },
      "outputs": [
        {
          "output_type": "stream",
          "name": "stdout",
          "text": [
            "Mounted at /content/gdrive\n"
          ]
        }
      ],
      "source": [
        "#@title mount your Google Drive\n",
        "#@markdown Your work will be stored in a folder called `cds_rl_2022` by default to prevent Colab instance timeouts from deleting your edits.\n",
        "\n",
        "import os\n",
        "from google.colab import drive\n",
        "drive.mount('/content/gdrive')"
      ]
    },
    {
      "cell_type": "code",
      "execution_count": null,
      "metadata": {
        "id": "jHSGIZ2CU6Jv"
      },
      "outputs": [],
      "source": [
        "#@title set up mount symlink\n",
        "\n",
        "DRIVE_PATH = '/content/gdrive/My\\ Drive/cds_rl_2022'\n",
        "DRIVE_PYTHON_PATH = DRIVE_PATH.replace('\\\\', '')\n",
        "if not os.path.exists(DRIVE_PYTHON_PATH):\n",
        "    !mkdir $DRIVE_PATH\n",
        "\n",
        "## the space in `My Drive` causes some issues,\n",
        "## make a symlink to avoid this\n",
        "SYM_PATH = '/content/cds_rl_2022'\n",
        "if not os.path.exists(SYM_PATH):\n",
        "    !ln -s $DRIVE_PATH $SYM_PATH"
      ]
    },
    {
      "cell_type": "code",
      "execution_count": null,
      "metadata": {
        "id": "3KQROT1WU6Jv"
      },
      "outputs": [],
      "source": [
        "#@title apt install requirements\n",
        "\n",
        "#@markdown Run each section with Shift+Enter\n",
        "\n",
        "#@markdown Double-click on section headers to show code.\n",
        "\n",
        "!apt update \n",
        "!apt install -y --no-install-recommends \\\n",
        "        build-essential \\\n",
        "        curl \\\n",
        "        git \\\n",
        "        git-lfs \\\n",
        "        gnupg2 \\\n",
        "        make \\\n",
        "        cmake \\\n",
        "        ffmpeg \\\n",
        "        swig \\\n",
        "        libz-dev \\\n",
        "        unzip \\\n",
        "        zlib1g-dev \\\n",
        "        libglfw3 \\\n",
        "        libglfw3-dev \\\n",
        "        libxrandr2 \\\n",
        "        libxinerama-dev \\\n",
        "        libxi6 \\\n",
        "        libxcursor-dev \\\n",
        "        libgl1-mesa-dev \\\n",
        "        libgl1-mesa-glx \\\n",
        "        libglew-dev \\\n",
        "        libosmesa6-dev \\\n",
        "        lsb-release \\\n",
        "        ack-grep \\\n",
        "        patchelf \\\n",
        "        wget \\\n",
        "        xpra \\\n",
        "        xserver-xorg-dev \\\n",
        "        xvfb \\\n",
        "        python-opengl \\\n",
        "        ffmpeg\n",
        "\n",
        "# set up git lfs\n",
        "!git lfs install"
      ]
    },
    {
      "cell_type": "code",
      "execution_count": null,
      "metadata": {
        "id": "gpjkUFtrU6Jw"
      },
      "outputs": [],
      "source": [
        "#@title install mujoco-py\n",
        "\n",
        "%pip install free-mujoco-py\n",
        "\n",
        "# Cythonizes pkg on the first run\n",
        "import mujoco_py"
      ]
    },
    {
      "cell_type": "markdown",
      "metadata": {
        "id": "k1Nj846VSExE"
      },
      "source": [
        "### Clone/update repo\n",
        "\n",
        "Now we need to clone the HW3 codebase. There are two options:\n",
        "\n",
        "1. Git clone the [repository](https://github.com/pkuderov/mipt-rl-hw-2022.git), install requirements, start coding HW3. This's the only option if you haven't cloned the repo yet for HW1. \n",
        "    If you have the repo already cloned, it's better to follow the 2-nd option. Otherwise, you will need to move the old `rl_hw` folder first. But don't delete it - make sure you've kept the HW1 solution as you will need it for this assignment!\n",
        "\n",
        "2. Use already cloned local repository in `rl_hw`. Save the HW1 solution to the separate branch, then git pull changes from the remote upstream to get HW3 codebase."
      ]
    },
    {
      "cell_type": "code",
      "execution_count": null,
      "metadata": {
        "id": "3W405-rkU6Jw"
      },
      "outputs": [],
      "source": [
        "#@title clone homework repo (option #1)\n",
        " %cd $SYM_PATH\n",
        " !git clone https://github.com/pkuderov/mipt-rl-hw-2022.git rl_hw\n",
        " %cd rl_hw"
      ]
    },
    {
      "cell_type": "code",
      "execution_count": null,
      "metadata": {
        "id": "X0i9iN1wSN6e"
      },
      "outputs": [],
      "source": [
        "#@title pull updated repo (option #2)\n",
        "# Don't hesitate to update the script for yourself\n",
        "\n",
        "# %cd $SYM_PATH/rl_hw\n",
        "# # git commit before pulling\n",
        "# !git checkout -b \"hw2\"\n",
        "# !git add .\n",
        "# !git commit -m \"HW2 solution\"\n",
        "# !git checkout main\n",
        "\n",
        "# # update\n",
        "# !git pull"
      ]
    },
    {
      "cell_type": "code",
      "source": [
        "%cd $SYM_PATH/rl_hw"
      ],
      "metadata": {
        "id": "pV9BZ4A3tpL0",
        "outputId": "1a9abad5-3f41-4615-85bc-187bd578796e",
        "colab": {
          "base_uri": "https://localhost:8080/"
        }
      },
      "execution_count": null,
      "outputs": [
        {
          "output_type": "stream",
          "name": "stdout",
          "text": [
            "/content/gdrive/My Drive/cds_rl_2022/rl_hw\n"
          ]
        }
      ]
    },
    {
      "cell_type": "code",
      "execution_count": null,
      "metadata": {
        "id": "RWCz72b2SNsA"
      },
      "outputs": [],
      "source": [
        "#@title install requirements (the same as for previous homeworks + gym[atari] is added)\n",
        "%cd hw1\n",
        "%pip install -r requirements.colab.txt\n",
        "%pip install -e .\n",
        "\n",
        "# also install hw3 package\n",
        "%cd ../hw3\n",
        "%pip install -e ."
      ]
    },
    {
      "cell_type": "code",
      "execution_count": null,
      "metadata": {
        "id": "edu3tXLiQNuI"
      },
      "outputs": [],
      "source": [
        "#@title set up the Ms. Pacman environment\n",
        "\n",
        "import urllib.request\n",
        "urllib.request.urlretrieve('http://www.atarimania.com/roms/Roms.rar','Roms.rar')\n",
        "\n",
        "ATARI_PATH=f'{SYM_PATH}/Atari'\n",
        "\n",
        "%pip install unrar\n",
        "!unrar x Roms.rar\n",
        "%mkdir $ATARI_PATH\n",
        "%mv Roms.rar $ATARI_PATH\n",
        "%mv 'HC ROMS' $ATARI_PATH\n",
        "%mv 'ROMS' $ATARI_PATH\n",
        "!python -m atari_py.import_roms $ATARI_PATH"
      ]
    },
    {
      "cell_type": "code",
      "execution_count": null,
      "metadata": {
        "id": "I7bzWLo6U6Jw"
      },
      "outputs": [],
      "source": [
        "#@title set up virtual display\n",
        "\n",
        "from pyvirtualdisplay import Display\n",
        "\n",
        "display = Display(visible=0, size=(1400, 900))\n",
        "display.start()\n",
        "\n",
        "# For later\n",
        "from hw3.infrastructure.colab_utils import (\n",
        "    wrap_env,\n",
        "    show_video\n",
        ")"
      ]
    },
    {
      "cell_type": "code",
      "execution_count": null,
      "metadata": {
        "id": "sh75tr4RU6Jw",
        "cellView": "form",
        "outputId": "568213ce-f378-4bda-c21e-a09a71800a80",
        "colab": {
          "base_uri": "https://localhost:8080/",
          "height": 439
        }
      },
      "outputs": [
        {
          "output_type": "stream",
          "name": "stdout",
          "text": [
            "Loading video...\n"
          ]
        },
        {
          "output_type": "display_data",
          "data": {
            "text/plain": [
              "<IPython.core.display.HTML object>"
            ],
            "text/html": [
              "<video alt=\"test\" autoplay \n",
              "                loop controls style=\"height: 400px;\">\n",
              "                <source src=\"data:video/mp4;base64,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\" type=\"video/mp4\" />\n",
              "             </video>"
            ]
          },
          "metadata": {}
        }
      ],
      "source": [
        "#@title test virtual display\n",
        "\n",
        "#@markdown If you see a video of a four-legged ant fumbling about, setup is complete!\n",
        "\n",
        "import gym\n",
        "import matplotlib\n",
        "matplotlib.use('Agg')\n",
        "\n",
        "env = wrap_env(gym.make(\"Ant-v2\"))\n",
        "\n",
        "observation = env.reset()\n",
        "for i in range(10):\n",
        "    env.render(mode='rgb_array')\n",
        "    obs, rew, term, _ = env.step(env.action_space.sample() ) \n",
        "    if term:\n",
        "        break;\n",
        "            \n",
        "env.close()\n",
        "print('Loading video...')\n",
        "show_video()"
      ]
    },
    {
      "cell_type": "markdown",
      "metadata": {
        "id": "geXIvi2MU6Jx"
      },
      "source": [
        "## Editing Code\n",
        "\n",
        "To edit code, click the folder icon on the left menu. Navigate to the corresponding file (`cds_rl_2022/...`). Double click a file to open an editor. There is a timeout of about ~12 hours with Colab while it is active (and less if you close your browser window). We sync your edits to Google Drive so that you won't lose your work in the event of an instance timeout, but you will need to re-mount your Google Drive and re-install packages with every new instance."
      ]
    },
    {
      "cell_type": "markdown",
      "metadata": {
        "id": "J_OxQ1AZSyXC"
      },
      "source": [
        "## Run Actor Critic"
      ]
    },
    {
      "cell_type": "code",
      "execution_count": null,
      "metadata": {
        "id": "IzuN647wT9iJ",
        "cellView": "form"
      },
      "outputs": [],
      "source": [
        "#@title imports\n",
        "import os\n",
        "import time\n",
        "\n",
        "from hw3.agents.ac_agent import ACAgent\n",
        "from hw3.infrastructure.rl_trainer import RL_Trainer"
      ]
    },
    {
      "cell_type": "code",
      "execution_count": null,
      "metadata": {
        "id": "PQ9qWQu7TNb9"
      },
      "outputs": [],
      "source": [
        "#@title runtime arguments\n",
        "\n",
        "class ACArgs:\n",
        "\n",
        "    def __getitem__(self, key):\n",
        "        return getattr(self, key)\n",
        "\n",
        "    def __setitem__(self, key, val):\n",
        "        setattr(self, key, val)\n",
        "\n",
        "    def __contains__(self, key):\n",
        "        return hasattr(self, key)\n",
        "\n",
        "    env_name = 'CartPole-v0' #@param ['CartPole-v0', 'InvertedPendulum-v2', 'HalfCheetah-v2']\n",
        "    exp_name = 'q4_ac' #@param\n",
        "\n",
        "    ## PDF will tell you how to set ep_len\n",
        "    ## and discount for each environment\n",
        "    ep_len = 200 #@param {type: \"integer\"}\n",
        "\n",
        "    #@markdown batches and steps\n",
        "    batch_size = 1000 #@param {type: \"integer\"}\n",
        "    eval_batch_size =  400#@param {type: \"integer\"}\n",
        "\n",
        "    n_iter = 100 #@param {type: \"integer\"}\n",
        "    num_agent_train_steps_per_iter = 1 #@param {type: \"integer\"}\n",
        "    num_actor_updates_per_agent_update = 1 #@param {type: \"integer\"}\n",
        "    num_critic_updates_per_agent_update = 1 #@param {type: \"integer\"}\n",
        "\n",
        "    #@markdown Actor-Critic parameters\n",
        "    discount =  0.9#@param {type: \"number\"}\n",
        "    learning_rate = 5e-3 #@param {type: \"number\"}\n",
        "    dont_standardize_advantages = False #@param {type: \"boolean\"}\n",
        "    num_target_updates = 10 #@param {type: \"integer\"}\n",
        "    num_grad_steps_per_target_update = 10 #@param {type: \"integer\"}\n",
        "    n_layers = 2 #@param {type: \"integer\"}\n",
        "    size = 64 #@param {type: \"integer\"}\n",
        "\n",
        "    #@markdown system\n",
        "    save_params = False #@param {type: \"boolean\"}\n",
        "    no_gpu = False #@param {type: \"boolean\"}\n",
        "    which_gpu = 0 #@param {type: \"integer\"}\n",
        "    seed = 1 #@param {type: \"integer\"}\n",
        "\n",
        "    #@markdown logging\n",
        "    ## default is to not log video so\n",
        "    ## that logs are small enough to be\n",
        "    ## uploaded to gradscope\n",
        "    video_log_freq =  -1#@param {type: \"integer\"}\n",
        "    scalar_log_freq = 10 #@param {type: \"integer\"}\n",
        "\n",
        "\n",
        "args = ACArgs()\n",
        "\n",
        "\n",
        "if args['video_log_freq'] > 0:\n",
        "    import warnings\n",
        "    warnings.warn(\n",
        "        '''\\nLogging videos will make eventfiles too'''\n",
        "        '''\\nlarge for the autograder. Set video_log_freq = -1'''\n",
        "        '''\\nfor the runs you intend to submit.'''\n",
        "    )"
      ]
    },
    {
      "cell_type": "code",
      "execution_count": null,
      "metadata": {
        "id": "wqUVP5E5S1z8"
      },
      "outputs": [],
      "source": [
        "#@title Define AC trainer\n",
        "\n",
        "class AC_Trainer(object):\n",
        "\n",
        "    def __init__(self, params):\n",
        "\n",
        "        computation_graph_args = {\n",
        "            'n_layers': params['n_layers'],\n",
        "            'size': params['size'],\n",
        "            'learning_rate': params['learning_rate'],\n",
        "            'num_target_updates': params['num_target_updates'],\n",
        "            'num_grad_steps_per_target_update': params['num_grad_steps_per_target_update'],\n",
        "            }\n",
        "\n",
        "        estimate_advantage_args = {\n",
        "            'gamma': params['discount'],\n",
        "            'standardize_advantages': not(params['dont_standardize_advantages']),\n",
        "        }\n",
        "\n",
        "        train_args = {\n",
        "            'num_agent_train_steps_per_iter': params['num_agent_train_steps_per_iter'],\n",
        "            'num_critic_updates_per_agent_update': params['num_critic_updates_per_agent_update'],\n",
        "            'num_actor_updates_per_agent_update': params['num_actor_updates_per_agent_update'],\n",
        "        }\n",
        "\n",
        "        agent_params = {**computation_graph_args, **estimate_advantage_args, **train_args}\n",
        "\n",
        "        self.params = params\n",
        "        self.params['agent_class'] = ACAgent\n",
        "        self.params['agent_params'] = agent_params\n",
        "        self.params['train_batch_size'] = params['batch_size']\n",
        "        self.params['batch_size_initial'] = self.params['batch_size']\n",
        "        self.params['non_atari_colab_env'] = True\n",
        "\n",
        "        self.rl_trainer = RL_Trainer(self.params)\n",
        "\n",
        "    def run_training_loop(self):\n",
        "\n",
        "        self.rl_trainer.run_training_loop(\n",
        "            self.params['n_iter'],\n",
        "            collect_policy = self.rl_trainer.agent.actor,\n",
        "            eval_policy = self.rl_trainer.agent.actor,\n",
        "        )\n"
      ]
    },
    {
      "cell_type": "code",
      "execution_count": null,
      "metadata": {
        "id": "xuNw8N1jTg1p"
      },
      "outputs": [],
      "source": [
        "#@title create directories for logging\n",
        "\n",
        "def create_log_dir(args, data_path_sub=''):\n",
        "\n",
        "    data_path = '/content/cds_rl_2022/hw3/data'+data_path_sub\n",
        "    if not (os.path.exists(data_path)):\n",
        "        os.makedirs(data_path)\n",
        "    logdir = args.exp_name + '_' + args.env_name + '_' + time.strftime(\"%d-%m-%Y_%H-%M-%S\")\n",
        "    logdir = os.path.join(data_path, logdir)\n",
        "    args['logdir'] = logdir\n",
        "    if not(os.path.exists(logdir)):\n",
        "        os.makedirs(logdir)\n",
        "    print(\"LOGGING TO: \", logdir)\n"
      ]
    },
    {
      "cell_type": "code",
      "source": [
        "#@title read_logs\n",
        "from tensorflow.python.summary.summary_iterator import summary_iterator\n",
        "def read_logs(filename, tag):\n",
        "    info_tag = []\n",
        "    for e in summary_iterator(filename):\n",
        "        for v in e.summary.value:\n",
        "            if v.tag == tag:\n",
        "                info_tag.append(v.simple_value)\n",
        "    return info_tag"
      ],
      "metadata": {
        "id": "P87zEOlJuKBH"
      },
      "execution_count": null,
      "outputs": []
    },
    {
      "cell_type": "code",
      "source": [
        "#@title plot\n",
        "import matplotlib.pyplot as plt\n",
        "%matplotlib inline\n",
        "\n",
        "def plot_info(y, labels, y_label='', x_label='', koef=1):\n",
        "    fig, ax = plt.subplots(figsize=(20, 10))\n",
        "    for i in range(len(y)):\n",
        "        ax.plot(list(range(len(y[i])))*koef, y[i], label=labels[i])\n",
        "    ax.legend()\n",
        "    ax.grid()\n",
        "    ax.set_ylabel(y_label, fontsize=16)\n",
        "    ax.set_xlabel(x_label, fontsize=16)\n",
        "    plt.show()"
      ],
      "metadata": {
        "id": "AOnah3WuuPA4"
      },
      "execution_count": null,
      "outputs": []
    }
  ],
  "metadata": {
    "accelerator": "GPU",
    "colab": {
      "collapsed_sections": [],
      "name": "answer_run_hw3_actor_critic.ipynb",
      "provenance": []
    },
    "kernelspec": {
      "display_name": "Python 3 (ipykernel)",
      "language": "python",
      "name": "python3"
    },
    "language_info": {
      "codemirror_mode": {
        "name": "ipython",
        "version": 3
      },
      "file_extension": ".py",
      "mimetype": "text/x-python",
      "name": "python",
      "nbconvert_exporter": "python",
      "pygments_lexer": "ipython3",
      "version": "3.8.12"
    }
  },
  "nbformat": 4,
  "nbformat_minor": 0
}